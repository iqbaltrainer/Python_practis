{
 "cells": [
  {
   "cell_type": "markdown",
   "metadata": {},
   "source": [
    "# SOME TASK RELATED TO DICTIONARIES\n"
   ]
  },
  {
   "cell_type": "code",
   "execution_count": 5,
   "metadata": {},
   "outputs": [
    {
     "name": "stdout",
     "output_type": "stream",
     "text": [
      "{'n1': [2, 3, 1], 'n2': [5, 1, 2], 'n3': [3, 2, 4]}\n"
     ]
    }
   ],
   "source": [
    "some_numbers = {'n1': [2, 3, 1], 'n2': [5, 1, 2], 'n3': [3, 2, 4]}\n",
    "print(some_numbers)"
   ]
  },
  {
   "cell_type": "code",
   "execution_count": 6,
   "metadata": {},
   "outputs": [
    {
     "data": {
      "text/plain": [
       "{'n1': [1, 2, 3], 'n2': [1, 2, 5], 'n3': [2, 3, 4]}"
      ]
     },
     "execution_count": 6,
     "metadata": {},
     "output_type": "execute_result"
    }
   ],
   "source": [
    "sorted_num = {}\n",
    "for (k, v) in some_numbers.items():\n",
    "  sorted_num[k] = sorted(v)\n",
    "sorted_num"
   ]
  },
  {
   "cell_type": "code",
   "execution_count": 7,
   "metadata": {},
   "outputs": [
    {
     "data": {
      "text/plain": [
       "{'n1': [1, 2, 3], 'n2': [1, 2, 5], 'n3': [2, 3, 4]}"
      ]
     },
     "execution_count": 7,
     "metadata": {},
     "output_type": "execute_result"
    }
   ],
   "source": [
    "some_numbers={k: sorted(v) for k,v in some_numbers.items()}\n",
    "some_numbers"
   ]
  },
  {
   "cell_type": "code",
   "execution_count": 8,
   "metadata": {},
   "outputs": [
    {
     "name": "stdout",
     "output_type": "stream",
     "text": [
      "flint\n",
      "twine\n",
      "gemstone\n",
      "turbole\n"
     ]
    }
   ],
   "source": [
    "inventory = {\n",
    "    'gold' : ['flint', 'twine', 'gemstone' , 'hagger' , 'turbole'],\n",
    "    'pouch' : ['flint', 'twine', 'gemstone' , 'hagger' , 'turbole'],\n",
    "    'backpack' : ['xylophone','dagger', 'bedroll','bread loaf']\n",
    "    \n",
    "    \n",
    "}\n",
    "user_input = 'pouch'\n",
    "if inventory[user_input]:\n",
    "    for i in inventory[user_input]:\n",
    "        if i != 'hagger':\n",
    "            print(i)\n"
   ]
  },
  {
   "cell_type": "code",
   "execution_count": 9,
   "metadata": {},
   "outputs": [
    {
     "name": "stdout",
     "output_type": "stream",
     "text": [
      "shahzad\n",
      "AI\n",
      "B\n"
     ]
    }
   ],
   "source": [
    "person = {'name' : 'shahzad' , 'program' : 'AI' , 'section' : 'B'}\n",
    "for k in person.keys():\n",
    "    print(person[k])"
   ]
  },
  {
   "cell_type": "code",
   "execution_count": 10,
   "metadata": {},
   "outputs": [
    {
     "name": "stdout",
     "output_type": "stream",
     "text": [
      "['html', 'css', 'excel']\n"
     ]
    }
   ],
   "source": [
    "user_programming_languages = {\n",
    "    'osama' : ['C' , 'C#' , 'Python'] , \n",
    "    'amir saleem' : ['html' , 'css' , 'excel'] , \n",
    "    'shahzad' : ['Ruby' , 'Swift'] \n",
    "}\n",
    "name = 'amir saleem'\n",
    "if name in user_programming_languages.keys():\n",
    "    print(user_programming_languages[name])"
   ]
  },
  {
   "cell_type": "code",
   "execution_count": null,
   "metadata": {},
   "outputs": [],
   "source": [
    "someData = {'colors' : ['red' , 'blue' 'green'] , 'shapes' : ['circle' , 'triangle']}\n",
    "# x = someData['colors']\n",
    "# x\n",
    "x  = someData.get('shape' , 'Not found')\n",
    "x"
   ]
  },
  {
   "cell_type": "code",
   "execution_count": null,
   "metadata": {},
   "outputs": [],
   "source": [
    "d = {0:10, 1:20}\n",
    "print(d)\n",
    "d.update({2:10})\n",
    "print(d)\n"
   ]
  },
  {
   "cell_type": "code",
   "execution_count": null,
   "metadata": {},
   "outputs": [],
   "source": [
    "users =[ {\n",
    "    \"name\" : \"hamza\",\n",
    "    \"password\" : '123456'\n",
    "},\n",
    "    {\n",
    "    \"name\" : \"shahzad\",\n",
    "    \"password\" : '123456'\n",
    "},\n",
    "    {\n",
    "    \"name\" : \"osama\",\n",
    "    \"password\" : '123456'\n",
    "}\n",
    "]\n",
    "name = input('Enter your name : ')\n",
    "for user in users:\n",
    "    if user.get('name') ==  name:\n",
    "        user.update({'name' : input('Enter your new name: ')})\n",
    "        print('you have successfully updated your name')\n",
    "print(users)"
   ]
  },
  {
   "cell_type": "code",
   "execution_count": null,
   "metadata": {},
   "outputs": [],
   "source": []
  },
  {
   "cell_type": "code",
   "execution_count": null,
   "metadata": {},
   "outputs": [],
   "source": [
    "# d = {'x': 10, 'y': 20, 'z': 30} \n",
    "# for dict_key, dict_value in d.items():\n",
    "#     print(dict_key,'->',dict_value)"
   ]
  },
  {
   "cell_type": "code",
   "execution_count": null,
   "metadata": {},
   "outputs": [],
   "source": [
    "# Print a dictionary where the keys are numbers between 1 and 15 and the values are square of keys\n"
   ]
  },
  {
   "cell_type": "code",
   "execution_count": null,
   "metadata": {},
   "outputs": [],
   "source": [
    "d1 = {'a': 100, 'b': 200}\n",
    "d2 = {'x': 300, 'y': 200}\n",
    "d1.update(d2)\n",
    "print(d1)"
   ]
  },
  {
   "cell_type": "code",
   "execution_count": null,
   "metadata": {},
   "outputs": [],
   "source": []
  },
  {
   "cell_type": "code",
   "execution_count": null,
   "metadata": {},
   "outputs": [],
   "source": [
    "# Python Exercise: Map two lists into a dictionary\n",
    "keys = ['red', 'green', 'blue', \"orange\"]\n",
    "values = ['#FF0000','#008000', '#0000FF',\"232323\",\"erert\"]\n",
    "color_dictionary = dict(zip(keys, values))\n",
    "print(color_dictionary)"
   ]
  },
  {
   "cell_type": "code",
   "execution_count": null,
   "metadata": {},
   "outputs": [],
   "source": [
    "for keys in color_dictionary.values():\n",
    "    print(keys)"
   ]
  },
  {
   "cell_type": "code",
   "execution_count": null,
   "metadata": {},
   "outputs": [],
   "source": []
  },
  {
   "cell_type": "code",
   "execution_count": null,
   "metadata": {},
   "outputs": [],
   "source": [
    "# Check a dictionary is empty or not\n",
    "my_dict = { }\n",
    "\n",
    "if my_dict:\n",
    "    print(\"Dictionary is not empty\")\n",
    "else :\n",
    "    print('Dictionary is empty')\n",
    "\n",
    "x = False\n",
    "if x:\n",
    "    print('list has some data')"
   ]
  },
  {
   "cell_type": "code",
   "execution_count": null,
   "metadata": {},
   "outputs": [],
   "source": [
    "x = [1,28,9,5,6,96,29,6,3,69,6,2,25,99,120,100,5,128]\n",
    "y = sorted(x )[:4]\n",
    "y"
   ]
  }
 ],
 "metadata": {
  "kernelspec": {
   "display_name": "Python 3",
   "language": "python",
   "name": "python3"
  },
  "language_info": {
   "codemirror_mode": {
    "name": "ipython",
    "version": 3
   },
   "file_extension": ".py",
   "mimetype": "text/x-python",
   "name": "python",
   "nbconvert_exporter": "python",
   "pygments_lexer": "ipython3",
   "version": "3.6.7"
  }
 },
 "nbformat": 4,
 "nbformat_minor": 2
}
